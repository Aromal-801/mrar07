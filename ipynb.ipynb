{
  "nbformat": 4,
  "nbformat_minor": 0,
  "metadata": {
    "colab": {
      "provenance": [],
      "authorship_tag": "ABX9TyNrr4SqcNFvMIYjgzQVd91Q",
      "include_colab_link": true
    },
    "kernelspec": {
      "name": "python3",
      "display_name": "Python 3"
    },
    "language_info": {
      "name": "python"
    }
  },
  "cells": [
    {
      "cell_type": "markdown",
      "metadata": {
        "id": "view-in-github",
        "colab_type": "text"
      },
      "source": [
        "<a href=\"https://colab.research.google.com/github/Aromal-801/mrar07/blob/main/ipynb.ipynb\" target=\"_parent\"><img src=\"https://colab.research.google.com/assets/colab-badge.svg\" alt=\"Open In Colab\"/></a>"
      ]
    },
    {
      "cell_type": "markdown",
      "source": [
        "\n",
        "Q1:Write a function to compute number of vowels in a string given as input"
      ],
      "metadata": {
        "id": "ZmWaAmOXDXNo"
      }
    },
    {
      "cell_type": "code",
      "source": [
        "def count_vowels(input_string):\n",
        "    vowels = set(\"aeiouAEIOU\")\n",
        "    count = 0\n",
        "    for char in input_string:\n",
        "        if char in vowels:\n",
        "            count += 1\n",
        "    return count\n",
        "input_str = \"Hello, World!\"\n",
        "vowel_count = count_vowels(input_str)\n",
        "print(f\"The number of vowels in '{input_str}' is: {vowel_count}\")\n",
        "\n"
      ],
      "metadata": {
        "colab": {
          "base_uri": "https://localhost:8080/"
        },
        "id": "egvDqoZ0DZZg",
        "outputId": "94e0b126-fa01-4c74-a219-afc805b8d9bc"
      },
      "execution_count": 1,
      "outputs": [
        {
          "output_type": "stream",
          "name": "stdout",
          "text": [
            "The number of vowels in 'Hello, World!' is: 3\n"
          ]
        }
      ]
    },
    {
      "cell_type": "markdown",
      "source": [
        "Question 2\n",
        "Write a function that checks whether a number is prime."
      ],
      "metadata": {
        "id": "CtdeA9KCFVih"
      }
    },
    {
      "cell_type": "code",
      "source": [
        "def is_prime(n):\n",
        "    if n < 2:\n",
        "        return False\n",
        "\n",
        "    for i in range(2, int(n**0.5) + 1):\n",
        "        if n % i == 0:\n",
        "            return False\n",
        "    return True\n",
        "\n",
        "num=int(input(\"Enter a number: \"))\n",
        "if is_prime(num):\n",
        "    print(f\"{num} is a prime number.\")\n",
        "else:\n",
        "    print(f\"{num} is not a prime number.\")\n"
      ],
      "metadata": {
        "id": "YHth3p45Fb2A",
        "colab": {
          "base_uri": "https://localhost:8080/"
        },
        "outputId": "cefb4003-e5bc-4b62-b55e-b6705a797493"
      },
      "execution_count": 2,
      "outputs": [
        {
          "output_type": "stream",
          "name": "stdout",
          "text": [
            "Enter a number: 6\n",
            "6 is not a prime number.\n"
          ]
        }
      ]
    },
    {
      "cell_type": "markdown",
      "source": [
        "\n",
        "Question 3\n",
        "Write a function to return the maximum of two numbers."
      ],
      "metadata": {
        "id": "7OmnfOmjIxcJ"
      }
    },
    {
      "cell_type": "code",
      "source": [
        "a=int(input(\"Enter your number:\"))\n",
        "b=int(input(\"Enter your number:\"))\n",
        "def maximum(a,b):\n",
        "    if a>b:\n",
        "        return a\n",
        "    else:\n",
        "        return b\n",
        "print(maximum(a,b))"
      ],
      "metadata": {
        "colab": {
          "base_uri": "https://localhost:8080/"
        },
        "id": "oF9gFMEELLnS",
        "outputId": "b95e7ce2-48d4-4177-a20e-d71203407d9b"
      },
      "execution_count": 3,
      "outputs": [
        {
          "output_type": "stream",
          "name": "stdout",
          "text": [
            "Enter your number:5\n",
            "Enter your number:41\n",
            "41\n"
          ]
        }
      ]
    },
    {
      "cell_type": "markdown",
      "source": [
        "Question 4\n",
        "Write a function to return the factorial of a number."
      ],
      "metadata": {
        "id": "E59GzCLQJrQZ"
      }
    },
    {
      "cell_type": "code",
      "source": [
        "x=int(input(\"Enter the number:\"))\n",
        "def factorial(x):\n",
        "    if x==0:\n",
        "        return 1\n",
        "    else:\n",
        "        return x*factorial(x-1)\n",
        "print(factorial(x))"
      ],
      "metadata": {
        "colab": {
          "base_uri": "https://localhost:8080/"
        },
        "id": "55PFUm8TLJ5y",
        "outputId": "ebe6ce0d-6c25-4771-b274-6f28900e1c75"
      },
      "execution_count": 4,
      "outputs": [
        {
          "output_type": "stream",
          "name": "stdout",
          "text": [
            "Enter the number:55\n",
            "12696403353658275925965100847566516959580321051449436762275840000000000000\n"
          ]
        }
      ]
    },
    {
      "cell_type": "markdown",
      "source": [
        " Question 5\n",
        "Write a function to reverse a string without string indexing.\n"
      ],
      "metadata": {
        "id": "Anhb0wdfMO-5"
      }
    },
    {
      "cell_type": "code",
      "source": [
        "s=input(\"Enter your string:\")\n",
        "rev= s[::-1]\n",
        "print(rev)\n"
      ],
      "metadata": {
        "colab": {
          "base_uri": "https://localhost:8080/"
        },
        "id": "_aSMGqYHMX45",
        "outputId": "2c23cd51-8497-4dce-cbf2-5019be49557e"
      },
      "execution_count": 7,
      "outputs": [
        {
          "output_type": "stream",
          "name": "stdout",
          "text": [
            "Enter your string:aromal\n",
            "lamora\n"
          ]
        }
      ]
    },
    {
      "cell_type": "markdown",
      "source": [
        "Question 6\n",
        "Write a function to check if a string is a palindrome."
      ],
      "metadata": {
        "id": "Ij2pS-MVOAsS"
      }
    },
    {
      "cell_type": "code",
      "source": [
        "s = input(\"Enter your string: \")\n",
        "rev = s[::-1]\n",
        "\n",
        "if s == rev:\n",
        "    print(\"The string is a palindrome.\")\n",
        "else:\n",
        "    print(\"The string is not a palindrome.\")\n"
      ],
      "metadata": {
        "colab": {
          "base_uri": "https://localhost:8080/"
        },
        "id": "_ngnbs0GOHQp",
        "outputId": "cf6ead2c-f512-4d43-9be6-64b81ce8fcff"
      },
      "execution_count": 14,
      "outputs": [
        {
          "output_type": "stream",
          "name": "stdout",
          "text": [
            "Enter your string: aromal\n",
            "The string is not a palindrome.\n"
          ]
        }
      ]
    },
    {
      "cell_type": "markdown",
      "source": [
        " Question 7\n",
        "Write a function to count vowels in a string."
      ],
      "metadata": {
        "id": "mS8JRzq0PJqa"
      }
    },
    {
      "cell_type": "code",
      "source": [
        "a = ['a', 'e', 'i', 'o', 'u']\n",
        "string = input(\"Enter the string: \").lower()\n",
        "def your_function_7():\n",
        "    count = 0\n",
        "    for i in string:\n",
        "        if i in a:\n",
        "            count += 1\n",
        "    print(\"Number of vowels:\", count)\n",
        "\n"
      ],
      "metadata": {
        "colab": {
          "base_uri": "https://localhost:8080/"
        },
        "id": "_xQukt1cPPDr",
        "outputId": "d0d84949-4a21-460c-ab00-32c72cb851d1"
      },
      "execution_count": 16,
      "outputs": [
        {
          "output_type": "stream",
          "name": "stdout",
          "text": [
            "Enter the string: aromal\n",
            "Number of vowels: 3\n"
          ]
        }
      ]
    },
    {
      "cell_type": "markdown",
      "source": [
        "Question 8\n",
        "Write a function that returns the sum of a list."
      ],
      "metadata": {
        "id": "AlDtQ1GjQYky"
      }
    },
    {
      "cell_type": "code",
      "source": [
        "def sum_of_list(numbers):\n",
        "    total = 0\n",
        "    for number in numbers:\n",
        "        total += number\n",
        "    return total\n",
        "example_list = [1, 2, 3, 4, 5]\n",
        "result = sum_of_list(example_list)\n",
        "print(f\"The sum of the list {example_list} is: {result}\")\n"
      ],
      "metadata": {
        "colab": {
          "base_uri": "https://localhost:8080/"
        },
        "id": "HDgy3qZRQdYL",
        "outputId": "13bf50ae-d012-47ef-91c4-e907dda088a3"
      },
      "execution_count": 18,
      "outputs": [
        {
          "output_type": "stream",
          "name": "stdout",
          "text": [
            "The sum of the list [1, 2, 3, 4, 5] is: 15\n"
          ]
        }
      ]
    },
    {
      "cell_type": "markdown",
      "source": [
        "\n",
        " Question 9\n",
        "Write a function to find the smallest number in a list."
      ],
      "metadata": {
        "id": "SMxyOStpQ7Xb"
      }
    },
    {
      "cell_type": "code",
      "source": [
        "y=['2','-2','7','8']\n",
        "s=min(y)\n",
        "print(\"smallest number:\",s)"
      ],
      "metadata": {
        "colab": {
          "base_uri": "https://localhost:8080/"
        },
        "id": "mmivKXKIRAaD",
        "outputId": "3b712cf6-f8d3-420a-9d35-757c1b9833e6"
      },
      "execution_count": 19,
      "outputs": [
        {
          "output_type": "stream",
          "name": "stdout",
          "text": [
            "smallest number: -2\n"
          ]
        }
      ]
    },
    {
      "cell_type": "markdown",
      "source": [
        " Question 10\n",
        "Write a function to remove duplicates from a list."
      ],
      "metadata": {
        "id": "xYXiDWqLTQ_K"
      }
    },
    {
      "cell_type": "code",
      "source": [
        "a={'a','y','b','a'}\n",
        "b=set(a)\n",
        "print(list(b))\n"
      ],
      "metadata": {
        "colab": {
          "base_uri": "https://localhost:8080/"
        },
        "id": "d0E4PzBnTVsC",
        "outputId": "6bc19159-3af0-4bcf-a9d7-4f190f0983bd"
      },
      "execution_count": 20,
      "outputs": [
        {
          "output_type": "stream",
          "name": "stdout",
          "text": [
            "['b', 'y', 'a']\n"
          ]
        }
      ]
    },
    {
      "cell_type": "markdown",
      "source": [
        "Question 11\n",
        "Write a function to sort a list in ascending order without using builtin sort function"
      ],
      "metadata": {
        "id": "bChceT6pWB70"
      }
    },
    {
      "cell_type": "code",
      "source": [
        "a=[2, 3, 1, 4, 5]\n",
        "def your_function_11():\n",
        "  for i in range(len(a)):\n",
        "    for j in range(i + 1, len(a)):\n",
        "      if a[i] > a[j]:\n",
        "        a[i], a[j] = a[j], a[i]\n",
        "  print(a)\n",
        "your_function_11()"
      ],
      "metadata": {
        "colab": {
          "base_uri": "https://localhost:8080/"
        },
        "id": "08cNgoKNWJMC",
        "outputId": "003eaa62-8ca5-463d-a9a6-0c9d98d7fae8"
      },
      "execution_count": 31,
      "outputs": [
        {
          "output_type": "stream",
          "name": "stdout",
          "text": [
            "[1, 2, 3, 4, 5]\n"
          ]
        }
      ]
    },
    {
      "cell_type": "markdown",
      "source": [
        " Question 12\n",
        "Write a function that returns the length of a string."
      ],
      "metadata": {
        "id": "vGs7nekdgoXI"
      }
    },
    {
      "cell_type": "code",
      "source": [
        "def my_function_12():\n",
        "  text=(\"apple\")\n",
        "  return len(text)\n",
        "print(my_function_12())"
      ],
      "metadata": {
        "colab": {
          "base_uri": "https://localhost:8080/"
        },
        "id": "sLtr8uLTgxyw",
        "outputId": "22d838d4-ab40-4da1-cca5-328936fb2722"
      },
      "execution_count": 34,
      "outputs": [
        {
          "output_type": "stream",
          "name": "stdout",
          "text": [
            "5\n"
          ]
        }
      ]
    },
    {
      "cell_type": "markdown",
      "source": [
        " Question 13\n",
        "Write a function to count words in a sentence."
      ],
      "metadata": {
        "id": "Oe1YU-mAhZvP"
      }
    },
    {
      "cell_type": "code",
      "source": [
        "def count_words(sentence):\n",
        "    words = sentence.split()\n",
        "    return len(words)\n",
        "sentence = \"The onepiece is real.\"\n",
        "word_count = count_words(sentence)\n",
        "print(f\"The number of words in the sentence is: {word_count}\")"
      ],
      "metadata": {
        "colab": {
          "base_uri": "https://localhost:8080/"
        },
        "id": "w8S7TCIehscH",
        "outputId": "7a3893b9-e533-4fa1-fc43-bc3c523ecdb9"
      },
      "execution_count": 36,
      "outputs": [
        {
          "output_type": "stream",
          "name": "stdout",
          "text": [
            "The number of words in the sentence is: 4\n"
          ]
        }
      ]
    },
    {
      "cell_type": "markdown",
      "source": [
        " Question 14\n",
        "Write a function to convert Celsius to Fahrenheit."
      ],
      "metadata": {
        "id": "KfT1SHZUiSgQ"
      }
    },
    {
      "cell_type": "code",
      "source": [
        "def celsius_to_fahrenheit(celsius):\n",
        "    fahrenheit = (celsius * 9/5) + 32\n",
        "    return fahrenheit\n",
        "celsius = 25\n",
        "fahrenheit = celsius_to_fahrenheit(celsius)\n",
        "print(\"celsius:\", celsius)\n",
        "print(\"fahrenheit:\", fahrenheit)"
      ],
      "metadata": {
        "colab": {
          "base_uri": "https://localhost:8080/"
        },
        "id": "VNi02XSPiYsv",
        "outputId": "f7adc0bf-e485-434a-a167-0cb9aae5a067"
      },
      "execution_count": 44,
      "outputs": [
        {
          "output_type": "stream",
          "name": "stdout",
          "text": [
            "celsius: 25\n",
            "fahrenheit: 77.0\n"
          ]
        }
      ]
    },
    {
      "cell_type": "markdown",
      "source": [
        "Question 15\n",
        "Write a function to check if a number is palindrome."
      ],
      "metadata": {
        "id": "7_yYCWL8jTvB"
      }
    },
    {
      "cell_type": "code",
      "source": [
        "def is_palindrome(number):\n",
        "    original_number = number\n",
        "    reversed_number = 0\n",
        "    while number > 0:\n",
        "        digit = number % 10\n",
        "        reversed_number = reversed_number * 10 + digit\n",
        "        number //= 10\n",
        "    return original_number == reversed_number\n",
        "number = 12321\n",
        "if is_palindrome(number):\n",
        "    print(f\"{number} is a palindrome.\")\n",
        "else:\n",
        "    print(f\"{number} is not a palindrome.\")"
      ],
      "metadata": {
        "colab": {
          "base_uri": "https://localhost:8080/"
        },
        "id": "nQKPHs50jZx5",
        "outputId": "4df90dc4-9980-4c8f-cfea-0d1ac34cf64e"
      },
      "execution_count": 48,
      "outputs": [
        {
          "output_type": "stream",
          "name": "stdout",
          "text": [
            "12321 is a palindrome.\n"
          ]
        }
      ]
    },
    {
      "cell_type": "markdown",
      "source": [
        "### Question 16\n",
        "Write a function to return all even numbers in a list"
      ],
      "metadata": {
        "id": "uOrEWwnkmuzi"
      }
    },
    {
      "cell_type": "code",
      "source": [
        "a=['11','18','24','31','42','51']\n",
        "def your_function_16():\n",
        "  for i in a:\n",
        "    if int(i)%2==0:\n",
        "      print(i)\n",
        "your_function_16()"
      ],
      "metadata": {
        "colab": {
          "base_uri": "https://localhost:8080/"
        },
        "id": "ib-ZnDHPnHBJ",
        "outputId": "a6ad45d1-1110-41f6-fa2c-7aac8a4781f7"
      },
      "execution_count": 49,
      "outputs": [
        {
          "output_type": "stream",
          "name": "stdout",
          "text": [
            "18\n",
            "24\n",
            "42\n"
          ]
        }
      ]
    },
    {
      "cell_type": "markdown",
      "source": [
        " Question 17\n",
        "Write a function to return the nth Fibonacci number."
      ],
      "metadata": {
        "id": "yfkAhgF4of8C"
      }
    },
    {
      "cell_type": "code",
      "source": [
        "def your_function_17(n):\n",
        "  a, b =0,1\n",
        "  for i in range(n):\n",
        "    a,b=b,a+b\n",
        "  return a\n",
        "print(your_function_17(0))\n",
        "x=int(input(\"Enter the number:\"))\n",
        "result=your_function_17(x)\n",
        "print(\"the nth Fibonacci number is:\",result)"
      ],
      "metadata": {
        "colab": {
          "base_uri": "https://localhost:8080/"
        },
        "id": "fRfnSohOonRo",
        "outputId": "81b0d0ab-d3d2-43b0-d53c-bf60728db859"
      },
      "execution_count": 59,
      "outputs": [
        {
          "output_type": "stream",
          "name": "stdout",
          "text": [
            "0\n",
            "Enter the number:14\n",
            "the nth Fibonacci number is: 377\n"
          ]
        }
      ]
    },
    {
      "cell_type": "markdown",
      "source": [
        " Question 18\n",
        "Write a function to calculate the average of a list."
      ],
      "metadata": {
        "id": "zsON0YZ6tioo"
      }
    },
    {
      "cell_type": "code",
      "source": [
        "a=[4,5,7,9,15]\n",
        "def your_function_18():\n",
        "  sum=0\n",
        "  for i in a:\n",
        "    sum+=i\n",
        "  return sum/len(a)\n",
        "print(your_function_18())"
      ],
      "metadata": {
        "colab": {
          "base_uri": "https://localhost:8080/"
        },
        "id": "Dh0liOGJtmra",
        "outputId": "7b9d9ec4-5e87-4a28-b93a-0455ea17dd9c"
      },
      "execution_count": 60,
      "outputs": [
        {
          "output_type": "stream",
          "name": "stdout",
          "text": [
            "8.0\n"
          ]
        }
      ]
    },
    {
      "cell_type": "markdown",
      "source": [
        "Question 19\n",
        "Write a function that returns a dictionary of character counts."
      ],
      "metadata": {
        "id": "IYa0jtiOtvlx"
      }
    },
    {
      "cell_type": "code",
      "source": [
        "def my_function_19():\n",
        "  count_dict ={}\n",
        "  for char in text:\n",
        "    if char in count_dict:\n",
        "      count_dict[char]+=1\n",
        "    else:\n",
        "      count_dict[char]=1\n",
        "  return count_dict\n",
        "text=\"apple\"\n",
        "print(my_function_19())"
      ],
      "metadata": {
        "colab": {
          "base_uri": "https://localhost:8080/"
        },
        "id": "UYjTELBnt1WQ",
        "outputId": "cb556c9c-1f30-4319-d34a-f4b8ec93fdc1"
      },
      "execution_count": 61,
      "outputs": [
        {
          "output_type": "stream",
          "name": "stdout",
          "text": [
            "{'a': 1, 'p': 2, 'l': 1, 'e': 1}\n"
          ]
        }
      ]
    },
    {
      "cell_type": "markdown",
      "source": [
        "Question 20\n",
        "Write a function that returns True if all list elements are unique."
      ],
      "metadata": {
        "id": "ffHK2m7VuLrR"
      }
    },
    {
      "cell_type": "code",
      "source": [
        "def my_function_20():\n",
        "  return len(list)==len(set(list))\n",
        "list=[1,2,3,4,5,6]\n",
        "print(my_function_20())"
      ],
      "metadata": {
        "colab": {
          "base_uri": "https://localhost:8080/"
        },
        "id": "stEfkxH1uRCh",
        "outputId": "ae7b893d-2f9f-497c-cabb-c98afbdcc317"
      },
      "execution_count": 66,
      "outputs": [
        {
          "output_type": "stream",
          "name": "stdout",
          "text": [
            "True\n"
          ]
        }
      ]
    },
    {
      "cell_type": "markdown",
      "source": [
        " Question 21\n",
        "Write a function that returns dot product of two list of numbers"
      ],
      "metadata": {
        "id": "ZHPMVgGVu867"
      }
    },
    {
      "cell_type": "code",
      "source": [
        "def my_function_21(list1, list2):\n",
        "   dot_product = 0\n",
        "   for i in range(len(list1)):\n",
        "         dot_product += list1[i] * list2[i]\n",
        "   return dot_product\n",
        "list1=[1,2,3]\n",
        "list2=[4,5,6]\n",
        "result = my_function_21(list1,list2)\n",
        "print(\"Dot product is:\",result)"
      ],
      "metadata": {
        "colab": {
          "base_uri": "https://localhost:8080/"
        },
        "id": "3f-dfkjzvN5h",
        "outputId": "02066d7b-a61f-4a56-cca4-7bca282bac19"
      },
      "execution_count": 74,
      "outputs": [
        {
          "output_type": "stream",
          "name": "stdout",
          "text": [
            "Dot product is: 32\n"
          ]
        }
      ]
    },
    {
      "cell_type": "markdown",
      "source": [
        " Question 22\n",
        "Write a function that returns the projection of vector a onto vector b. Both a and b are given as list of numbers"
      ],
      "metadata": {
        "id": "WvXyk8ecxEra"
      }
    },
    {
      "cell_type": "code",
      "source": [],
      "metadata": {
        "id": "eaVDpgKzxLKz"
      },
      "execution_count": null,
      "outputs": []
    }
  ]
}