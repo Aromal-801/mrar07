{
  "nbformat": 4,
  "nbformat_minor": 0,
  "metadata": {
    "colab": {
      "provenance": [],
      "authorship_tag": "ABX9TyMcWY+puoSZkYMYdKW7dH+m",
      "include_colab_link": true
    },
    "kernelspec": {
      "name": "python3",
      "display_name": "Python 3"
    },
    "language_info": {
      "name": "python"
    }
  },
  "cells": [
    {
      "cell_type": "markdown",
      "metadata": {
        "id": "view-in-github",
        "colab_type": "text"
      },
      "source": [
        "<a href=\"https://colab.research.google.com/github/Aromal-801/mrar07/blob/main/Numpy_and_Pandas_Assessment_.ipynb\" target=\"_parent\"><img src=\"https://colab.research.google.com/assets/colab-badge.svg\" alt=\"Open In Colab\"/></a>"
      ]
    },
    {
      "cell_type": "markdown",
      "source": [
        "Numpy Assessment"
      ],
      "metadata": {
        "id": "OuBPmhHqtvIq"
      }
    },
    {
      "cell_type": "code",
      "source": [
        "#1\n",
        "import numpy as np\n",
        "arr = np.arange(10, 50)\n",
        "print(\"Original array:\\n\", arr)\n",
        "\n",
        "\n",
        "reshaped = arr.reshape(4, 10)\n",
        "print(\"\\nReshaped 4x10 matrix:\\n\", reshaped)\n",
        "\n",
        "\n",
        "last_col = reshaped[:, -1]\n",
        "print(\"\\nLast column:\\n\", last_col)"
      ],
      "metadata": {
        "colab": {
          "base_uri": "https://localhost:8080/"
        },
        "id": "iOPzSNRrtz0T",
        "outputId": "ead92f57-9abe-40ef-d450-0160f94be4e1"
      },
      "execution_count": 1,
      "outputs": [
        {
          "output_type": "stream",
          "name": "stdout",
          "text": [
            "Original array:\n",
            " [10 11 12 13 14 15 16 17 18 19 20 21 22 23 24 25 26 27 28 29 30 31 32 33\n",
            " 34 35 36 37 38 39 40 41 42 43 44 45 46 47 48 49]\n",
            "\n",
            "Reshaped 4x10 matrix:\n",
            " [[10 11 12 13 14 15 16 17 18 19]\n",
            " [20 21 22 23 24 25 26 27 28 29]\n",
            " [30 31 32 33 34 35 36 37 38 39]\n",
            " [40 41 42 43 44 45 46 47 48 49]]\n",
            "\n",
            "Last column:\n",
            " [19 29 39 49]\n"
          ]
        }
      ]
    },
    {
      "cell_type": "code",
      "source": [
        "#2\n",
        "import numpy as np\n",
        "\n",
        "matrix_5s = np.full((3, 3), 5)\n",
        "\n",
        "matrix_1_to_9 = np.arange(1, 10).reshape(3, 3)\n",
        "\n",
        "print(\"Matrix of 5s:\\n\", matrix_5s)\n",
        "print(\"\\nMatrix with values from 1 to 9:\\n\", matrix_1_to_9)\n",
        "\n",
        "\n",
        "added = matrix_5s + matrix_1_to_9\n",
        "print(\"\\nAdded Matrix:\\n\", added)\n",
        "\n",
        "\n",
        "multiplied = matrix_5s * matrix_1_to_9\n",
        "print(\"\\nElement-wise Multiplied Matrix:\\n\", multiplied)\n",
        "\n",
        "\n",
        "transpose_result = multiplied.T\n",
        "print(\"\\nTranspose of the Multiplied Matrix:\\n\", transpose_result)"
      ],
      "metadata": {
        "colab": {
          "base_uri": "https://localhost:8080/"
        },
        "id": "XpaFF5AYt9xL",
        "outputId": "5f7b9140-b4a2-4145-aab8-8a5cf09e33fd"
      },
      "execution_count": 2,
      "outputs": [
        {
          "output_type": "stream",
          "name": "stdout",
          "text": [
            "Matrix of 5s:\n",
            " [[5 5 5]\n",
            " [5 5 5]\n",
            " [5 5 5]]\n",
            "\n",
            "Matrix with values from 1 to 9:\n",
            " [[1 2 3]\n",
            " [4 5 6]\n",
            " [7 8 9]]\n",
            "\n",
            "Added Matrix:\n",
            " [[ 6  7  8]\n",
            " [ 9 10 11]\n",
            " [12 13 14]]\n",
            "\n",
            "Element-wise Multiplied Matrix:\n",
            " [[ 5 10 15]\n",
            " [20 25 30]\n",
            " [35 40 45]]\n",
            "\n",
            "Transpose of the Multiplied Matrix:\n",
            " [[ 5 20 35]\n",
            " [10 25 40]\n",
            " [15 30 45]]\n"
          ]
        }
      ]
    },
    {
      "cell_type": "code",
      "source": [
        "#3\n",
        "import numpy as np\n",
        "\n",
        "arr = np.random.randint(10, 101, size=15)\n",
        "print(\"Original array:\\n\", arr)\n",
        "\n",
        "replaced = arr > 50\n",
        "arr[replaced] = -1\n",
        "print(\"\\nModified array (values > 50 replaced with -1):\\n\", arr)\n",
        "\n",
        "count_replaced = np.sum(replaced)\n",
        "print(\"\\nNumber of values replaced:\", count_replaced)"
      ],
      "metadata": {
        "colab": {
          "base_uri": "https://localhost:8080/"
        },
        "id": "PxhNcP4du0w5",
        "outputId": "8261756f-a034-4084-ee37-cc7d5fa9c769"
      },
      "execution_count": 3,
      "outputs": [
        {
          "output_type": "stream",
          "name": "stdout",
          "text": [
            "Original array:\n",
            " [ 41  18  80  25  46  84  62  43 100  25  36  62  82  44  34]\n",
            "\n",
            "Modified array (values > 50 replaced with -1):\n",
            " [41 18 -1 25 46 -1 -1 43 -1 25 36 -1 -1 44 34]\n",
            "\n",
            "Number of values replaced: 6\n"
          ]
        }
      ]
    },
    {
      "cell_type": "code",
      "source": [
        "#4\n",
        "import numpy as np\n",
        "\n",
        "arr = np.random.rand(5, 4)\n",
        "print(\"Original 5x4 array:\\n\", arr)\n",
        "\n",
        "row_sums = arr.sum(axis=1)\n",
        "max_row_index = np.argmax(row_sums)\n",
        "print(\"\\nRow with maximum sum (index {}):\\n\".format(max_row_index), arr[max_row_index])\n",
        "\n",
        "\n",
        "normalized_arr = np.zeros_like(arr)\n",
        "for i in range(arr.shape[0]):\n",
        "    row_min = arr[i].min()\n",
        "    row_max = arr[i].max()\n",
        "    if row_max != row_min:\n",
        "        normalized_arr[i] = (arr[i] - row_min) / (row_max - row_min)\n",
        "    else:\n",
        "        normalized_arr[i] = 0\n",
        "print(\"\\nNormalized array (row-wise min-max):\\n\", normalized_arr)\n"
      ],
      "metadata": {
        "colab": {
          "base_uri": "https://localhost:8080/"
        },
        "id": "wLx0pEv9u5wR",
        "outputId": "46b7b952-a265-4b07-ab62-892203919d9d"
      },
      "execution_count": 4,
      "outputs": [
        {
          "output_type": "stream",
          "name": "stdout",
          "text": [
            "Original 5x4 array:\n",
            " [[0.89604454 0.35015168 0.30999459 0.17254365]\n",
            " [0.66475353 0.01104084 0.17468549 0.72683119]\n",
            " [0.41860301 0.27275457 0.64313111 0.07069227]\n",
            " [0.1845857  0.94632422 0.40314066 0.86656103]\n",
            " [0.689888   0.13268636 0.45963435 0.63278924]]\n",
            "\n",
            "Row with maximum sum (index 3):\n",
            " [0.1845857  0.94632422 0.40314066 0.86656103]\n",
            "\n",
            "Normalized array (row-wise min-max):\n",
            " [[1.         0.24548419 0.18998033 0.        ]\n",
            " [0.91327395 0.         0.22862092 1.        ]\n",
            " [0.60776927 0.35298495 1.         0.        ]\n",
            " [0.         1.         0.286916   0.89528796]\n",
            " [1.         0.         0.58676782 0.89752586]]\n"
          ]
        }
      ]
    },
    {
      "cell_type": "code",
      "source": [
        "#5\n",
        "import numpy as np\n",
        "\n",
        "arr = np.array([1, 3, 5, 3, 7, 9, 1, 5, 5])\n",
        "\n",
        "unique_elements = np.unique(arr)\n",
        "print(\"Unique elements:\", unique_elements)\n",
        "\n",
        "elements, counts = np.unique(arr, return_counts=True)\n",
        "duplicates = elements[counts > 1]\n",
        "print(\"Duplicate elements:\", duplicates)\n"
      ],
      "metadata": {
        "colab": {
          "base_uri": "https://localhost:8080/"
        },
        "id": "WXFFxPoUu_kT",
        "outputId": "1dc8b543-31ea-44b9-8d0d-a31fa52e8a13"
      },
      "execution_count": 5,
      "outputs": [
        {
          "output_type": "stream",
          "name": "stdout",
          "text": [
            "Unique elements: [1 3 5 7 9]\n",
            "Duplicate elements: [1 3 5]\n"
          ]
        }
      ]
    },
    {
      "cell_type": "code",
      "source": [
        "#6\n",
        "import numpy as np\n",
        "\n",
        "arr = np.arange(1, 37).reshape(6, 6)\n",
        "print(\"Original 6x6 array:\\n\", arr)\n",
        "\n",
        "submatrix = arr[1:5, 1:5]\n",
        "print(\"\\nMiddle 4x4 submatrix:\\n\", submatrix)\n",
        "\n",
        "even_numbers = submatrix[submatrix % 2 == 0]\n",
        "print(\"\\nEven numbers in the submatrix:\\n\", even_numbers)"
      ],
      "metadata": {
        "colab": {
          "base_uri": "https://localhost:8080/"
        },
        "id": "tXJ3Y7VOvEXz",
        "outputId": "259f5c32-d1ef-4164-c70f-d8ab9ca083e2"
      },
      "execution_count": 6,
      "outputs": [
        {
          "output_type": "stream",
          "name": "stdout",
          "text": [
            "Original 6x6 array:\n",
            " [[ 1  2  3  4  5  6]\n",
            " [ 7  8  9 10 11 12]\n",
            " [13 14 15 16 17 18]\n",
            " [19 20 21 22 23 24]\n",
            " [25 26 27 28 29 30]\n",
            " [31 32 33 34 35 36]]\n",
            "\n",
            "Middle 4x4 submatrix:\n",
            " [[ 8  9 10 11]\n",
            " [14 15 16 17]\n",
            " [20 21 22 23]\n",
            " [26 27 28 29]]\n",
            "\n",
            "Even numbers in the submatrix:\n",
            " [ 8 10 14 16 20 22 26 28]\n"
          ]
        }
      ]
    },
    {
      "cell_type": "code",
      "source": [
        "#7\n",
        "import numpy as np\n",
        "\n",
        "arr = np.arange(12).reshape(3, 4)\n",
        "print(\"Original (3,4) array:\\n\", arr)\n",
        "\n",
        "reshaped_2x6 = arr.reshape(2, 6)\n",
        "print(\"\\nReshaped to (2,6):\\n\", reshaped_2x6)\n",
        "\n",
        "flattened = reshaped_2x6.flatten()\n",
        "print(\"\\nFlattened 1D array:\\n\", flattened)\n",
        "\n",
        "reshaped_4x3 = flattened.reshape(4, 3)\n",
        "print(\"\\nReshaped back to (4,3):\\n\", reshaped_4x3)"
      ],
      "metadata": {
        "colab": {
          "base_uri": "https://localhost:8080/"
        },
        "id": "H_Xsq0qDvJXT",
        "outputId": "20bb5da1-f61e-4a24-8633-a7293d53e0f9"
      },
      "execution_count": 7,
      "outputs": [
        {
          "output_type": "stream",
          "name": "stdout",
          "text": [
            "Original (3,4) array:\n",
            " [[ 0  1  2  3]\n",
            " [ 4  5  6  7]\n",
            " [ 8  9 10 11]]\n",
            "\n",
            "Reshaped to (2,6):\n",
            " [[ 0  1  2  3  4  5]\n",
            " [ 6  7  8  9 10 11]]\n",
            "\n",
            "Flattened 1D array:\n",
            " [ 0  1  2  3  4  5  6  7  8  9 10 11]\n",
            "\n",
            "Reshaped back to (4,3):\n",
            " [[ 0  1  2]\n",
            " [ 3  4  5]\n",
            " [ 6  7  8]\n",
            " [ 9 10 11]]\n"
          ]
        }
      ]
    },
    {
      "cell_type": "code",
      "source": [
        "#8\n",
        "import numpy as np\n",
        "\n",
        "a = np.array([[1, 2], [3, 4]])\n",
        "print(\"Original array:\\n\", a)\n",
        "\n",
        "new_row = np.array([[5, 6]])\n",
        "a = np.vstack([a, new_row])\n",
        "print(\"\\nAfter appending new row:\\n\", a)\n",
        "\n",
        "new_col = np.array([[7], [8], [9]])\n",
        "a = np.hstack([a, new_col])\n",
        "print(\"\\nAfter appending new column:\\n\", a)\n"
      ],
      "metadata": {
        "colab": {
          "base_uri": "https://localhost:8080/"
        },
        "id": "hhQAwEs5vSti",
        "outputId": "0f0dc507-8353-40ca-b18a-6e55bb668537"
      },
      "execution_count": 8,
      "outputs": [
        {
          "output_type": "stream",
          "name": "stdout",
          "text": [
            "Original array:\n",
            " [[1 2]\n",
            " [3 4]]\n",
            "\n",
            "After appending new row:\n",
            " [[1 2]\n",
            " [3 4]\n",
            " [5 6]]\n",
            "\n",
            "After appending new column:\n",
            " [[1 2 7]\n",
            " [3 4 8]\n",
            " [5 6 9]]\n"
          ]
        }
      ]
    },
    {
      "cell_type": "code",
      "source": [
        "#9\n",
        "import numpy as np\n",
        "\n",
        "a = np.array([1, 2, 3])\n",
        "b = np.array([4, 5, 6])\n",
        "c = np.array([7, 8, 9])\n",
        "\n",
        "joined = np.concatenate((a, b, c))\n",
        "print(\"Joined array:\\n\", joined)\n",
        "\n",
        "matrix = joined.reshape(3, 3)\n",
        "print(\"\\nReshaped 3x3 matrix:\\n\", matrix)\n",
        "\n",
        "diagonal = np.diag(matrix)\n",
        "print(\"\\nDiagonal elements:\\n\", diagonal)\n"
      ],
      "metadata": {
        "colab": {
          "base_uri": "https://localhost:8080/"
        },
        "id": "ol_sdwnqvhfR",
        "outputId": "274c51d5-075f-476e-9075-6b04e60a3800"
      },
      "execution_count": 9,
      "outputs": [
        {
          "output_type": "stream",
          "name": "stdout",
          "text": [
            "Joined array:\n",
            " [1 2 3 4 5 6 7 8 9]\n",
            "\n",
            "Reshaped 3x3 matrix:\n",
            " [[1 2 3]\n",
            " [4 5 6]\n",
            " [7 8 9]]\n",
            "\n",
            "Diagonal elements:\n",
            " [1 5 9]\n"
          ]
        }
      ]
    },
    {
      "cell_type": "code",
      "source": [
        "#10\n",
        "import numpy as np\n",
        "\n",
        "arr = np.arange(1, 21)\n",
        "print(\"Original array:\\n\", arr)\n",
        "\n",
        "div_by_3_or_5 = arr[(arr % 3 == 0) | (arr % 5 == 0)]\n",
        "print(\"\\nValues divisible by 3 or 5:\\n\", div_by_3_or_5)\n",
        "\n",
        "count = div_by_3_or_5.size\n",
        "print(\"\\nCount of values divisible by 3 or 5:\", count)"
      ],
      "metadata": {
        "colab": {
          "base_uri": "https://localhost:8080/"
        },
        "id": "Q42o1SBqvmIC",
        "outputId": "bc38ddcf-d2f9-40fd-d61d-b70082736940"
      },
      "execution_count": 10,
      "outputs": [
        {
          "output_type": "stream",
          "name": "stdout",
          "text": [
            "Original array:\n",
            " [ 1  2  3  4  5  6  7  8  9 10 11 12 13 14 15 16 17 18 19 20]\n",
            "\n",
            "Values divisible by 3 or 5:\n",
            " [ 3  5  6  9 10 12 15 18 20]\n",
            "\n",
            "Count of values divisible by 3 or 5: 9\n"
          ]
        }
      ]
    },
    {
      "cell_type": "markdown",
      "source": [
        "Pandas Assessment"
      ],
      "metadata": {
        "id": "xnBFpVrwvs_Z"
      }
    },
    {
      "cell_type": "code",
      "source": [
        "#1\n",
        "def range(a):\n",
        "  maximum=max(a)\n",
        "  minimum=min(a)\n",
        "  return maximum,minimum\n",
        "\n",
        "a=[2,4,5,13,4,9]\n",
        "maximum,minimum = range(a)\n",
        "print(\"Range = \",maximum,minimum)"
      ],
      "metadata": {
        "colab": {
          "base_uri": "https://localhost:8080/"
        },
        "id": "R-kbrHRtvvMz",
        "outputId": "05585268-4524-4d2c-d4cc-d8b66574bf31"
      },
      "execution_count": 11,
      "outputs": [
        {
          "output_type": "stream",
          "name": "stdout",
          "text": [
            "Range =  13 2\n"
          ]
        }
      ]
    },
    {
      "cell_type": "code",
      "source": [
        "#2\n",
        "def mean_value(numbers):\n",
        "  if not numbers:\n",
        "    return None\n",
        "  total = sum(numbers)\n",
        "  mean = total / len(numbers)\n",
        "  return mean\n",
        "numbers=[2,43,67,8]\n",
        "mean = mean_value(numbers)\n",
        "print(\"Mean value = \",mean)"
      ],
      "metadata": {
        "colab": {
          "base_uri": "https://localhost:8080/"
        },
        "id": "Lv-9IF2cv2tS",
        "outputId": "19e8d3f9-9791-4ff8-fd5b-d59c8f4debe3"
      },
      "execution_count": 12,
      "outputs": [
        {
          "output_type": "stream",
          "name": "stdout",
          "text": [
            "Mean value =  30.0\n"
          ]
        }
      ]
    },
    {
      "cell_type": "code",
      "source": [
        "#3\n",
        "def median_value(num):\n",
        "  if not numbers:\n",
        "    return None\n",
        "  x = sorted(num)\n",
        "  l = len(num)\n",
        "  if l%2==0:\n",
        "   median=(num[l//2]+num[l//2])/2\n",
        "  else:\n",
        "   median=num[l//2]\n",
        "  return median\n",
        "num=[2,3,5,6,7,9]\n",
        "median=median_value(num)\n",
        "print(\"Median:\",median)"
      ],
      "metadata": {
        "colab": {
          "base_uri": "https://localhost:8080/"
        },
        "id": "NQCLg5Xwv7YD",
        "outputId": "1c95df6a-acb6-4774-de43-081c6a2fa1dc"
      },
      "execution_count": 13,
      "outputs": [
        {
          "output_type": "stream",
          "name": "stdout",
          "text": [
            "Median: 6.0\n"
          ]
        }
      ]
    },
    {
      "cell_type": "code",
      "source": [
        "#5\n",
        "def percentile_value(p):\n",
        "    x = sorted(p)\n",
        "    n = len(x)\n",
        "    perc = 90 / 100 * (n - 1)\n",
        "    y = int(perc)\n",
        "    fraction = perc - y\n",
        "\n",
        "    if y + 1 < n:\n",
        "        m = x[y] + fraction * (x[y + 1] - x[y])\n",
        "\n",
        "\n",
        "    return perc, y, m\n",
        "\n",
        "x = [10, 20, 30, 40, 50]\n",
        "perc, y, m = percentile_value(x)\n",
        "print(\"Percentile position (float):\", perc)\n",
        "print(\"Lower index used:\", y)\n",
        "print(\"Interpolated 90th Percentile value:\", m)"
      ],
      "metadata": {
        "colab": {
          "base_uri": "https://localhost:8080/"
        },
        "id": "U9mx7Q1rwAoS",
        "outputId": "7e9d8b56-3845-4a5b-ad0e-9b9448d7f509"
      },
      "execution_count": 14,
      "outputs": [
        {
          "output_type": "stream",
          "name": "stdout",
          "text": [
            "Percentile position (float): 3.6\n",
            "Lower index used: 3\n",
            "Interpolated 90th Percentile value: 46.0\n"
          ]
        }
      ]
    },
    {
      "cell_type": "code",
      "source": [
        "#6\n",
        "def lower_bound(a):\n",
        "  a.sort()\n",
        "  n=len(a)\n",
        "  Q1 =int (25/100)*(n-1)\n",
        "  Q3 = int (75/100)*(n-1)\n",
        "  IQR = a[Q3]-a[Q1]\n",
        "  LB = a[Q1]-1.5*IQR\n",
        "  return LB\n",
        "a=[10,20,30,40,50]\n",
        "LB = lower_bound(a)\n",
        "print(\"LB:\",LB)"
      ],
      "metadata": {
        "colab": {
          "base_uri": "https://localhost:8080/"
        },
        "id": "cyAmuznLxL-T",
        "outputId": "5638042d-87f5-4778-ecdf-ee7213885ca0"
      },
      "execution_count": 15,
      "outputs": [
        {
          "output_type": "stream",
          "name": "stdout",
          "text": [
            "LB: 10.0\n"
          ]
        }
      ]
    },
    {
      "cell_type": "code",
      "source": [
        "#7\n",
        "def outliers(a):\n",
        "    a = sorted(a)\n",
        "    n = len(a)\n",
        "\n",
        "    Q1_index = int(0.25 * (n - 1))\n",
        "    Q3_index = int(0.75 * (n - 1))\n",
        "\n",
        "    Q1 = a[Q1_index]\n",
        "    Q3 = a[Q3_index]\n",
        "    IQR = Q3 - Q1\n",
        "    LB = Q1 - 1.5 * IQR\n",
        "    UB = Q3 + 1.5 * IQR\n",
        "    return [x for x in a if x < LB or x > UB]\n",
        "a = [10, 20, 30, 40, 50, 100]\n",
        "print(\"Outliers:\", outliers(a))"
      ],
      "metadata": {
        "colab": {
          "base_uri": "https://localhost:8080/"
        },
        "id": "umtImVckxYZR",
        "outputId": "99d126c1-188d-4f03-af0c-3014aaa669d3"
      },
      "execution_count": 16,
      "outputs": [
        {
          "output_type": "stream",
          "name": "stdout",
          "text": [
            "Outliers: [100]\n"
          ]
        }
      ]
    },
    {
      "cell_type": "code",
      "source": [
        "#8\n",
        "def standard_deviation(a):\n",
        "  a.sort\n",
        "  b=len(a)\n",
        "  mean=(sum(a)/b)\n",
        "  c=sum((x-mean)**2 for x in a)/(b-1)\n",
        "# d=c/z-1\n",
        "# print(\"Variance:\",c)\n",
        "  sd = c**0.5\n",
        "  return sd\n",
        "a=[10,20,30,40,50]\n",
        "sd=standard_deviation(a)\n",
        "print(\"Standard Deviation:\",sd)"
      ],
      "metadata": {
        "colab": {
          "base_uri": "https://localhost:8080/"
        },
        "id": "KlxSNSEtxcs6",
        "outputId": "38c02cd7-278e-4dda-c21b-1a75028b0dc1"
      },
      "execution_count": 17,
      "outputs": [
        {
          "output_type": "stream",
          "name": "stdout",
          "text": [
            "Standard Deviation: 15.811388300841896\n"
          ]
        }
      ]
    },
    {
      "cell_type": "code",
      "source": [
        "#9\n",
        "def z_score(a):\n",
        "  mean=sum(a)/len(a)\n",
        "  sd=standard_deviation(a)\n",
        "  z=[(x-mean)/sd for x in a]\n",
        "  return z\n",
        "a=[10,20,30,40,50]\n",
        "z=z_score(a)\n",
        "print(\"Z-score:\",z)"
      ],
      "metadata": {
        "colab": {
          "base_uri": "https://localhost:8080/"
        },
        "id": "3V17waTtxglC",
        "outputId": "215c2a7a-15c6-4983-97e6-bbc68b137b9a"
      },
      "execution_count": 18,
      "outputs": [
        {
          "output_type": "stream",
          "name": "stdout",
          "text": [
            "Z-score: [-1.2649110640673518, -0.6324555320336759, 0.0, 0.6324555320336759, 1.2649110640673518]\n"
          ]
        }
      ]
    },
    {
      "cell_type": "code",
      "source": [
        "#10\n",
        "import seaborn as sns\n",
        "titanic = sns.load_dataset('titanic')\n",
        "\n",
        "avg_fare = titanic.groupby(['pclass', 'sex'])['fare'].mean()\n",
        "\n",
        "print(\"Average fare by passenger class and gender:\\n\")\n",
        "print(avg_fare.round(2))"
      ],
      "metadata": {
        "colab": {
          "base_uri": "https://localhost:8080/"
        },
        "id": "grsyopvw2xOh",
        "outputId": "42421b12-85a9-4345-ec38-2f6250b078cd"
      },
      "execution_count": 20,
      "outputs": [
        {
          "output_type": "stream",
          "name": "stdout",
          "text": [
            "Average fare by passenger class and gender:\n",
            "\n",
            "pclass  sex   \n",
            "1       female    106.13\n",
            "        male       67.23\n",
            "2       female     21.97\n",
            "        male       19.74\n",
            "3       female     16.12\n",
            "        male       12.66\n",
            "Name: fare, dtype: float64\n"
          ]
        }
      ]
    },
    {
      "cell_type": "code",
      "source": [],
      "metadata": {
        "id": "hveouIDV3Q6y"
      },
      "execution_count": null,
      "outputs": []
    }
  ]
}