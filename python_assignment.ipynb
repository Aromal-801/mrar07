{
  "nbformat": 4,
  "nbformat_minor": 0,
  "metadata": {
    "colab": {
      "provenance": [],
      "authorship_tag": "ABX9TyM3lUU4OSnN091TumqCmiqO",
      "include_colab_link": true
    },
    "kernelspec": {
      "name": "python3",
      "display_name": "Python 3"
    },
    "language_info": {
      "name": "python"
    }
  },
  "cells": [
    {
      "cell_type": "markdown",
      "metadata": {
        "id": "view-in-github",
        "colab_type": "text"
      },
      "source": [
        "<a href=\"https://colab.research.google.com/github/Aromal-801/mrar07/blob/main/python_assignment.ipynb\" target=\"_parent\"><img src=\"https://colab.research.google.com/assets/colab-badge.svg\" alt=\"Open In Colab\"/></a>"
      ]
    },
    {
      "cell_type": "markdown",
      "source": [
        "Q1. Write a function that return the range (maximum and minimun) of a given list of numbers"
      ],
      "metadata": {
        "id": "oRVMVVUp4Zr2"
      }
    },
    {
      "cell_type": "code",
      "execution_count": 1,
      "metadata": {
        "colab": {
          "base_uri": "https://localhost:8080/"
        },
        "id": "nd4ILZGbZdp-",
        "outputId": "68974cb5-8cb8-43b2-b403-56145e15d25d"
      },
      "outputs": [
        {
          "output_type": "stream",
          "name": "stdout",
          "text": [
            "The range of the list is 5 to 30\n"
          ]
        }
      ],
      "source": [
        "def get_range(numbers):\n",
        "    if not numbers:\n",
        "        return None, None\n",
        "    return min(numbers), max(numbers)\n",
        "\n",
        "numbers = [5, 9, 30, 12]\n",
        "min_value, max_value = get_range(numbers)\n",
        "print(f\"The range of the list is {min_value} to {max_value}\")"
      ]
    },
    {
      "cell_type": "markdown",
      "source": [
        "## Q2. Write function that returns mean value of a list of numbers"
      ],
      "metadata": {
        "id": "30qkSkvNaE7S"
      }
    },
    {
      "cell_type": "code",
      "source": [
        "def mean_value(numbers):\n",
        "    if not numbers:\n",
        "        return None\n",
        "    return sum(numbers) / len(numbers)\n",
        "    return mean_value\n",
        "\n",
        "numbers = [5, 9, 30, 12]\n",
        "mean = mean_value(numbers)\n",
        "print(f\"The mean value of the list is {mean}\")"
      ],
      "metadata": {
        "colab": {
          "base_uri": "https://localhost:8080/"
        },
        "id": "BjG5d4W-aJg7",
        "outputId": "78ea646f-1802-4607-cbd9-0c8502031a54"
      },
      "execution_count": 2,
      "outputs": [
        {
          "output_type": "stream",
          "name": "stdout",
          "text": [
            "The mean value of the list is 14.0\n"
          ]
        }
      ]
    },
    {
      "cell_type": "markdown",
      "source": [
        "# Q3. Write a function that returns the median value of a list of numbers"
      ],
      "metadata": {
        "id": "EoLVeTe3bff0"
      }
    },
    {
      "cell_type": "code",
      "source": [
        "def median_value(numbers):\n",
        "    if not numbers:\n",
        "        return None\n",
        "    sorted_numbers = sorted(numbers)\n",
        "    n = len(sorted_numbers)\n",
        "    mid_index = n // 2\n",
        "    if n % 2 == 0:\n",
        "\n",
        "        return (sorted_numbers[mid_index - 1] + sorted_numbers[mid_index]) / 2\n",
        "    else:\n",
        "\n",
        "        return sorted_numbers[mid_index]\n",
        "\n",
        "numbers = [5, 9, 30, 12, 15]\n",
        "median = median_value(numbers)\n",
        "print(f\"The median value of the list is {median}\")"
      ],
      "metadata": {
        "colab": {
          "base_uri": "https://localhost:8080/"
        },
        "id": "crBTMFANbnh7",
        "outputId": "be16d7eb-8f6c-42ee-a1b7-4971c77ff645"
      },
      "execution_count": 3,
      "outputs": [
        {
          "output_type": "stream",
          "name": "stdout",
          "text": [
            "The median value of the list is 12\n"
          ]
        }
      ]
    },
    {
      "cell_type": "markdown",
      "source": [
        "## Q4. Write a function to return the mod of a list of numbers, if no mod exists, it should return None. If more than one mod exist, return the mod values as list"
      ],
      "metadata": {
        "id": "N3tGh3iudUOi"
      }
    },
    {
      "cell_type": "code",
      "source": [
        "def mod_value(numbers):\n",
        "    if not numbers:\n",
        "        return None\n",
        ""
      ],
      "metadata": {
        "id": "DM4OLFPvgOyT"
      },
      "execution_count": 13,
      "outputs": []
    },
    {
      "cell_type": "markdown",
      "source": [
        "## Q5. Write function to compute a given percentile value (e.g. 90th percentile) of a list of numbers"
      ],
      "metadata": {
        "id": "syOmwbWXgPni"
      }
    },
    {
      "cell_type": "code",
      "source": [
        "def percentile_value(numbers, percentile):\n",
        "    n = len(numbers)\n",
        "    if n == 0:\n",
        "        return None\n",
        "\n",
        "    if not (0 <= percentile <= 100):\n",
        "        return None\n",
        "\n",
        "    sorted_numbers = sorted(numbers)\n",
        "    index = int(n * percentile / 100)\n",
        "\n",
        "    if index >= n:\n",
        "        index = n - 1\n",
        "    return sorted_numbers[index]\n",
        "\n",
        "numbers = [5, 9, 30, 12, 15]\n",
        "percentile_to_calculate = 90\n",
        "percentile_result = percentile_value(numbers, percentile_to_calculate)\n",
        "print(f\"The {percentile_to_calculate}the percentile value of the list is: {percentile_result}\")\n",
        "\n"
      ],
      "metadata": {
        "colab": {
          "base_uri": "https://localhost:8080/"
        },
        "id": "fkI4RSpcgUeK",
        "outputId": "c42b355b-8669-4f2d-9f1b-58a9dd530d1d"
      },
      "execution_count": 9,
      "outputs": [
        {
          "output_type": "stream",
          "name": "stdout",
          "text": [
            "The 90th percentile value of the list is: 30\n"
          ]
        }
      ]
    },
    {
      "cell_type": "markdown",
      "source": [
        "# Q6. Write a function that returns the lower bound of a list of numbers"
      ],
      "metadata": {
        "id": "6LASI4lmtjSA"
      }
    },
    {
      "cell_type": "code",
      "source": [
        "def lower_bound(a):\n",
        "   n=len(a)\n",
        "   Q1=int(25/100)*(n+1)\n",
        "   Q3=int(75/100)*(n+1)\n",
        "   IQR=a[Q3]-a[Q1]\n",
        "   LB=a[Q1]-1.5*IQR\n",
        "   return LB\n",
        "a=[10,20,30,60]\n",
        "LB=lower_bound(a)\n",
        "print(LB)"
      ],
      "metadata": {
        "colab": {
          "base_uri": "https://localhost:8080/"
        },
        "id": "bz1nOl5ftoa_",
        "outputId": "5d0eb0c6-bb5c-4ac4-ba7c-b8e808fb87a7"
      },
      "execution_count": 11,
      "outputs": [
        {
          "output_type": "stream",
          "name": "stdout",
          "text": [
            "10.0\n"
          ]
        }
      ]
    },
    {
      "cell_type": "markdown",
      "source": [
        "Q7. Write function to return any outliers from a given list of numbers, if no outliers present it should return None"
      ],
      "metadata": {
        "id": "0RaUPzvVy8Wu"
      }
    },
    {
      "cell_type": "code",
      "source": [
        "def find_outliers(numbers):\n",
        "    if not numbers:\n",
        "        return None\n",
        "\n",
        "    numbers = sorted(numbers)\n",
        "    n = len(numbers)\n",
        "\n",
        "    q1 = numbers[n // 4]\n",
        "    q3 = numbers[(3 * n) // 4]\n",
        "    iqr = q3 - q1\n",
        "\n",
        "    lower = q1 - 1.5 * iqr\n",
        "    upper = q3 + 1.5 * iqr\n",
        "\n",
        "\n",
        "\n",
        "    outliers = [x for x in numbers if x < lower or x > upper]\n",
        "\n",
        "    return outliers if outliers else None\n",
        "\n",
        "numbers = [10, 12, 14, 15, 18, 22, 25, 50]\n",
        "\n",
        "\n",
        "result = find_outliers(numbers)\n",
        "\n",
        "if result:\n",
        "    print(\"Outliers found:\", result)\n",
        "else:\n",
        "    print(\"No outliers found.\")\n"
      ],
      "metadata": {
        "colab": {
          "base_uri": "https://localhost:8080/"
        },
        "id": "ax4mTeLrzQ9t",
        "outputId": "1ede090b-c271-42db-9e41-821ef6c4b574"
      },
      "execution_count": 34,
      "outputs": [
        {
          "output_type": "stream",
          "name": "stdout",
          "text": [
            "Outliers found: [50]\n"
          ]
        }
      ]
    },
    {
      "cell_type": "markdown",
      "source": [
        "Q8. Write a function to return standard deviation of a list of numbers"
      ],
      "metadata": {
        "id": "uzFziT4J76G_"
      }
    },
    {
      "cell_type": "code",
      "source": [
        "def z_score"
      ],
      "metadata": {
        "id": "gP1N68pP8NW9"
      },
      "execution_count": 35,
      "outputs": []
    }
  ]
}